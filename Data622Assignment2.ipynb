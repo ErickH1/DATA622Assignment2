{
  "nbformat": 4,
  "nbformat_minor": 0,
  "metadata": {
    "colab": {
      "provenance": []
    },
    "kernelspec": {
      "name": "python3",
      "display_name": "Python 3"
    },
    "language_info": {
      "name": "python"
    }
  },
  "cells": [
    {
      "cell_type": "markdown",
      "source": [
        "# DATA 622 Assignment 2"
      ],
      "metadata": {
        "id": "kHRFj0xVlJXw"
      }
    },
    {
      "cell_type": "markdown",
      "source": [
        "Erick Hadi"
      ],
      "metadata": {
        "id": "IbrBd65zlJG_"
      }
    },
    {
      "cell_type": "markdown",
      "source": [
        "The dataset used for this assignment is the Portugese Bank Marketing dataset. The goal of the dataset is to predict whether a client will subscribe to a term deposit after being contacted. This means this problem is a supervised classification, specifically a binary classification task. Also the nature of the data as was discovered in the previous assignment shows that Tree based models may perform the best on this data. The dataset has many categorical and non linear relationships, some features have different scales and ranges, and in general ensemble methods can reduce overfitting and improve accuracy. With this in mind Decision Tree, Random Forest, Adaboost, and a special algorithm will be trained and evaluated to see which is the most accurate in predicting subscription.  "
      ],
      "metadata": {
        "id": "03ztjxXIHrpq"
      }
    },
    {
      "cell_type": "markdown",
      "source": [
        "## Import modules"
      ],
      "metadata": {
        "id": "vfiVO5MQlSjS"
      }
    },
    {
      "cell_type": "code",
      "execution_count": 1,
      "metadata": {
        "id": "seb8U910Ycka"
      },
      "outputs": [],
      "source": [
        "import pandas as pd\n",
        "import numpy as np\n",
        "import matplotlib.pyplot as plt\n",
        "import seaborn as sns\n",
        "from sklearn.tree import DecisionTreeClassifier\n",
        "from sklearn.ensemble import RandomForestClassifier, AdaBoostClassifier\n",
        "from sklearn.model_selection import train_test_split, GridSearchCV, cross_val_score\n",
        "from sklearn.preprocessing import StandardScaler, LabelEncoder\n",
        "from sklearn.metrics import accuracy_score, precision_score, recall_score, f1_score, roc_auc_score, confusion_matrix, classification_report\n"
      ]
    },
    {
      "cell_type": "markdown",
      "source": [
        "## Load Data (Data is from Assignmnet 1 where it was preprocessed )"
      ],
      "metadata": {
        "id": "Uk2qq988lWFe"
      }
    },
    {
      "cell_type": "markdown",
      "source": [],
      "metadata": {
        "id": "rOSa4V6XIz0b"
      }
    },
    {
      "cell_type": "code",
      "source": [
        "file_path = \"bank-additional-full-cleaned.csv\"\n",
        "data = pd.read_csv(file_path)"
      ],
      "metadata": {
        "id": "6FZUx2hAdbUW"
      },
      "execution_count": 2,
      "outputs": []
    },
    {
      "cell_type": "code",
      "source": [
        "data.head()"
      ],
      "metadata": {
        "colab": {
          "base_uri": "https://localhost:8080/",
          "height": 272
        },
        "id": "H2CyiPy2edZP",
        "outputId": "cecb1b87-e109-46d7-b651-cfc71a7fce12"
      },
      "execution_count": 3,
      "outputs": [
        {
          "output_type": "execute_result",
          "data": {
            "text/plain": [
              "   Unnamed: 0  age        job  marital    education default housing loan  \\\n",
              "0           0   56  housemaid  married     basic.4y      no      no   no   \n",
              "1           1   57   services  married  high.school     NaN      no   no   \n",
              "2           2   37   services  married  high.school      no     yes   no   \n",
              "3           3   40     admin.  married     basic.6y      no      no   no   \n",
              "4           4   56   services  married  high.school      no      no  yes   \n",
              "\n",
              "     contact month  ... campaign  pdays  previous     poutcome  \\\n",
              "0  telephone   may  ...        1    NaN         0  nonexistent   \n",
              "1  telephone   may  ...        1    NaN         0  nonexistent   \n",
              "2  telephone   may  ...        1    NaN         0  nonexistent   \n",
              "3  telephone   may  ...        1    NaN         0  nonexistent   \n",
              "4  telephone   may  ...        1    NaN         0  nonexistent   \n",
              "\n",
              "   cons_price_idx cons_conf_idx  euribor3m   y  contacted_before  \\\n",
              "0          93.994         -36.4      4.857  no                 0   \n",
              "1          93.994         -36.4      4.857  no                 0   \n",
              "2          93.994         -36.4      4.857  no                 0   \n",
              "3          93.994         -36.4      4.857  no                 0   \n",
              "4          93.994         -36.4      4.857  no                 0   \n",
              "\n",
              "  has_credit_risk  \n",
              "0               0  \n",
              "1               0  \n",
              "2               1  \n",
              "3               0  \n",
              "4               1  \n",
              "\n",
              "[5 rows x 22 columns]"
            ],
            "text/html": [
              "\n",
              "  <div id=\"df-f822661a-5805-47cd-b779-3d6a7324002a\" class=\"colab-df-container\">\n",
              "    <div>\n",
              "<style scoped>\n",
              "    .dataframe tbody tr th:only-of-type {\n",
              "        vertical-align: middle;\n",
              "    }\n",
              "\n",
              "    .dataframe tbody tr th {\n",
              "        vertical-align: top;\n",
              "    }\n",
              "\n",
              "    .dataframe thead th {\n",
              "        text-align: right;\n",
              "    }\n",
              "</style>\n",
              "<table border=\"1\" class=\"dataframe\">\n",
              "  <thead>\n",
              "    <tr style=\"text-align: right;\">\n",
              "      <th></th>\n",
              "      <th>Unnamed: 0</th>\n",
              "      <th>age</th>\n",
              "      <th>job</th>\n",
              "      <th>marital</th>\n",
              "      <th>education</th>\n",
              "      <th>default</th>\n",
              "      <th>housing</th>\n",
              "      <th>loan</th>\n",
              "      <th>contact</th>\n",
              "      <th>month</th>\n",
              "      <th>...</th>\n",
              "      <th>campaign</th>\n",
              "      <th>pdays</th>\n",
              "      <th>previous</th>\n",
              "      <th>poutcome</th>\n",
              "      <th>cons_price_idx</th>\n",
              "      <th>cons_conf_idx</th>\n",
              "      <th>euribor3m</th>\n",
              "      <th>y</th>\n",
              "      <th>contacted_before</th>\n",
              "      <th>has_credit_risk</th>\n",
              "    </tr>\n",
              "  </thead>\n",
              "  <tbody>\n",
              "    <tr>\n",
              "      <th>0</th>\n",
              "      <td>0</td>\n",
              "      <td>56</td>\n",
              "      <td>housemaid</td>\n",
              "      <td>married</td>\n",
              "      <td>basic.4y</td>\n",
              "      <td>no</td>\n",
              "      <td>no</td>\n",
              "      <td>no</td>\n",
              "      <td>telephone</td>\n",
              "      <td>may</td>\n",
              "      <td>...</td>\n",
              "      <td>1</td>\n",
              "      <td>NaN</td>\n",
              "      <td>0</td>\n",
              "      <td>nonexistent</td>\n",
              "      <td>93.994</td>\n",
              "      <td>-36.4</td>\n",
              "      <td>4.857</td>\n",
              "      <td>no</td>\n",
              "      <td>0</td>\n",
              "      <td>0</td>\n",
              "    </tr>\n",
              "    <tr>\n",
              "      <th>1</th>\n",
              "      <td>1</td>\n",
              "      <td>57</td>\n",
              "      <td>services</td>\n",
              "      <td>married</td>\n",
              "      <td>high.school</td>\n",
              "      <td>NaN</td>\n",
              "      <td>no</td>\n",
              "      <td>no</td>\n",
              "      <td>telephone</td>\n",
              "      <td>may</td>\n",
              "      <td>...</td>\n",
              "      <td>1</td>\n",
              "      <td>NaN</td>\n",
              "      <td>0</td>\n",
              "      <td>nonexistent</td>\n",
              "      <td>93.994</td>\n",
              "      <td>-36.4</td>\n",
              "      <td>4.857</td>\n",
              "      <td>no</td>\n",
              "      <td>0</td>\n",
              "      <td>0</td>\n",
              "    </tr>\n",
              "    <tr>\n",
              "      <th>2</th>\n",
              "      <td>2</td>\n",
              "      <td>37</td>\n",
              "      <td>services</td>\n",
              "      <td>married</td>\n",
              "      <td>high.school</td>\n",
              "      <td>no</td>\n",
              "      <td>yes</td>\n",
              "      <td>no</td>\n",
              "      <td>telephone</td>\n",
              "      <td>may</td>\n",
              "      <td>...</td>\n",
              "      <td>1</td>\n",
              "      <td>NaN</td>\n",
              "      <td>0</td>\n",
              "      <td>nonexistent</td>\n",
              "      <td>93.994</td>\n",
              "      <td>-36.4</td>\n",
              "      <td>4.857</td>\n",
              "      <td>no</td>\n",
              "      <td>0</td>\n",
              "      <td>1</td>\n",
              "    </tr>\n",
              "    <tr>\n",
              "      <th>3</th>\n",
              "      <td>3</td>\n",
              "      <td>40</td>\n",
              "      <td>admin.</td>\n",
              "      <td>married</td>\n",
              "      <td>basic.6y</td>\n",
              "      <td>no</td>\n",
              "      <td>no</td>\n",
              "      <td>no</td>\n",
              "      <td>telephone</td>\n",
              "      <td>may</td>\n",
              "      <td>...</td>\n",
              "      <td>1</td>\n",
              "      <td>NaN</td>\n",
              "      <td>0</td>\n",
              "      <td>nonexistent</td>\n",
              "      <td>93.994</td>\n",
              "      <td>-36.4</td>\n",
              "      <td>4.857</td>\n",
              "      <td>no</td>\n",
              "      <td>0</td>\n",
              "      <td>0</td>\n",
              "    </tr>\n",
              "    <tr>\n",
              "      <th>4</th>\n",
              "      <td>4</td>\n",
              "      <td>56</td>\n",
              "      <td>services</td>\n",
              "      <td>married</td>\n",
              "      <td>high.school</td>\n",
              "      <td>no</td>\n",
              "      <td>no</td>\n",
              "      <td>yes</td>\n",
              "      <td>telephone</td>\n",
              "      <td>may</td>\n",
              "      <td>...</td>\n",
              "      <td>1</td>\n",
              "      <td>NaN</td>\n",
              "      <td>0</td>\n",
              "      <td>nonexistent</td>\n",
              "      <td>93.994</td>\n",
              "      <td>-36.4</td>\n",
              "      <td>4.857</td>\n",
              "      <td>no</td>\n",
              "      <td>0</td>\n",
              "      <td>1</td>\n",
              "    </tr>\n",
              "  </tbody>\n",
              "</table>\n",
              "<p>5 rows × 22 columns</p>\n",
              "</div>\n",
              "    <div class=\"colab-df-buttons\">\n",
              "\n",
              "  <div class=\"colab-df-container\">\n",
              "    <button class=\"colab-df-convert\" onclick=\"convertToInteractive('df-f822661a-5805-47cd-b779-3d6a7324002a')\"\n",
              "            title=\"Convert this dataframe to an interactive table.\"\n",
              "            style=\"display:none;\">\n",
              "\n",
              "  <svg xmlns=\"http://www.w3.org/2000/svg\" height=\"24px\" viewBox=\"0 -960 960 960\">\n",
              "    <path d=\"M120-120v-720h720v720H120Zm60-500h600v-160H180v160Zm220 220h160v-160H400v160Zm0 220h160v-160H400v160ZM180-400h160v-160H180v160Zm440 0h160v-160H620v160ZM180-180h160v-160H180v160Zm440 0h160v-160H620v160Z\"/>\n",
              "  </svg>\n",
              "    </button>\n",
              "\n",
              "  <style>\n",
              "    .colab-df-container {\n",
              "      display:flex;\n",
              "      gap: 12px;\n",
              "    }\n",
              "\n",
              "    .colab-df-convert {\n",
              "      background-color: #E8F0FE;\n",
              "      border: none;\n",
              "      border-radius: 50%;\n",
              "      cursor: pointer;\n",
              "      display: none;\n",
              "      fill: #1967D2;\n",
              "      height: 32px;\n",
              "      padding: 0 0 0 0;\n",
              "      width: 32px;\n",
              "    }\n",
              "\n",
              "    .colab-df-convert:hover {\n",
              "      background-color: #E2EBFA;\n",
              "      box-shadow: 0px 1px 2px rgba(60, 64, 67, 0.3), 0px 1px 3px 1px rgba(60, 64, 67, 0.15);\n",
              "      fill: #174EA6;\n",
              "    }\n",
              "\n",
              "    .colab-df-buttons div {\n",
              "      margin-bottom: 4px;\n",
              "    }\n",
              "\n",
              "    [theme=dark] .colab-df-convert {\n",
              "      background-color: #3B4455;\n",
              "      fill: #D2E3FC;\n",
              "    }\n",
              "\n",
              "    [theme=dark] .colab-df-convert:hover {\n",
              "      background-color: #434B5C;\n",
              "      box-shadow: 0px 1px 3px 1px rgba(0, 0, 0, 0.15);\n",
              "      filter: drop-shadow(0px 1px 2px rgba(0, 0, 0, 0.3));\n",
              "      fill: #FFFFFF;\n",
              "    }\n",
              "  </style>\n",
              "\n",
              "    <script>\n",
              "      const buttonEl =\n",
              "        document.querySelector('#df-f822661a-5805-47cd-b779-3d6a7324002a button.colab-df-convert');\n",
              "      buttonEl.style.display =\n",
              "        google.colab.kernel.accessAllowed ? 'block' : 'none';\n",
              "\n",
              "      async function convertToInteractive(key) {\n",
              "        const element = document.querySelector('#df-f822661a-5805-47cd-b779-3d6a7324002a');\n",
              "        const dataTable =\n",
              "          await google.colab.kernel.invokeFunction('convertToInteractive',\n",
              "                                                    [key], {});\n",
              "        if (!dataTable) return;\n",
              "\n",
              "        const docLinkHtml = 'Like what you see? Visit the ' +\n",
              "          '<a target=\"_blank\" href=https://colab.research.google.com/notebooks/data_table.ipynb>data table notebook</a>'\n",
              "          + ' to learn more about interactive tables.';\n",
              "        element.innerHTML = '';\n",
              "        dataTable['output_type'] = 'display_data';\n",
              "        await google.colab.output.renderOutput(dataTable, element);\n",
              "        const docLink = document.createElement('div');\n",
              "        docLink.innerHTML = docLinkHtml;\n",
              "        element.appendChild(docLink);\n",
              "      }\n",
              "    </script>\n",
              "  </div>\n",
              "\n",
              "\n",
              "    <div id=\"df-071a2d9d-603d-4108-883a-4298748d3edd\">\n",
              "      <button class=\"colab-df-quickchart\" onclick=\"quickchart('df-071a2d9d-603d-4108-883a-4298748d3edd')\"\n",
              "                title=\"Suggest charts\"\n",
              "                style=\"display:none;\">\n",
              "\n",
              "<svg xmlns=\"http://www.w3.org/2000/svg\" height=\"24px\"viewBox=\"0 0 24 24\"\n",
              "     width=\"24px\">\n",
              "    <g>\n",
              "        <path d=\"M19 3H5c-1.1 0-2 .9-2 2v14c0 1.1.9 2 2 2h14c1.1 0 2-.9 2-2V5c0-1.1-.9-2-2-2zM9 17H7v-7h2v7zm4 0h-2V7h2v10zm4 0h-2v-4h2v4z\"/>\n",
              "    </g>\n",
              "</svg>\n",
              "      </button>\n",
              "\n",
              "<style>\n",
              "  .colab-df-quickchart {\n",
              "      --bg-color: #E8F0FE;\n",
              "      --fill-color: #1967D2;\n",
              "      --hover-bg-color: #E2EBFA;\n",
              "      --hover-fill-color: #174EA6;\n",
              "      --disabled-fill-color: #AAA;\n",
              "      --disabled-bg-color: #DDD;\n",
              "  }\n",
              "\n",
              "  [theme=dark] .colab-df-quickchart {\n",
              "      --bg-color: #3B4455;\n",
              "      --fill-color: #D2E3FC;\n",
              "      --hover-bg-color: #434B5C;\n",
              "      --hover-fill-color: #FFFFFF;\n",
              "      --disabled-bg-color: #3B4455;\n",
              "      --disabled-fill-color: #666;\n",
              "  }\n",
              "\n",
              "  .colab-df-quickchart {\n",
              "    background-color: var(--bg-color);\n",
              "    border: none;\n",
              "    border-radius: 50%;\n",
              "    cursor: pointer;\n",
              "    display: none;\n",
              "    fill: var(--fill-color);\n",
              "    height: 32px;\n",
              "    padding: 0;\n",
              "    width: 32px;\n",
              "  }\n",
              "\n",
              "  .colab-df-quickchart:hover {\n",
              "    background-color: var(--hover-bg-color);\n",
              "    box-shadow: 0 1px 2px rgba(60, 64, 67, 0.3), 0 1px 3px 1px rgba(60, 64, 67, 0.15);\n",
              "    fill: var(--button-hover-fill-color);\n",
              "  }\n",
              "\n",
              "  .colab-df-quickchart-complete:disabled,\n",
              "  .colab-df-quickchart-complete:disabled:hover {\n",
              "    background-color: var(--disabled-bg-color);\n",
              "    fill: var(--disabled-fill-color);\n",
              "    box-shadow: none;\n",
              "  }\n",
              "\n",
              "  .colab-df-spinner {\n",
              "    border: 2px solid var(--fill-color);\n",
              "    border-color: transparent;\n",
              "    border-bottom-color: var(--fill-color);\n",
              "    animation:\n",
              "      spin 1s steps(1) infinite;\n",
              "  }\n",
              "\n",
              "  @keyframes spin {\n",
              "    0% {\n",
              "      border-color: transparent;\n",
              "      border-bottom-color: var(--fill-color);\n",
              "      border-left-color: var(--fill-color);\n",
              "    }\n",
              "    20% {\n",
              "      border-color: transparent;\n",
              "      border-left-color: var(--fill-color);\n",
              "      border-top-color: var(--fill-color);\n",
              "    }\n",
              "    30% {\n",
              "      border-color: transparent;\n",
              "      border-left-color: var(--fill-color);\n",
              "      border-top-color: var(--fill-color);\n",
              "      border-right-color: var(--fill-color);\n",
              "    }\n",
              "    40% {\n",
              "      border-color: transparent;\n",
              "      border-right-color: var(--fill-color);\n",
              "      border-top-color: var(--fill-color);\n",
              "    }\n",
              "    60% {\n",
              "      border-color: transparent;\n",
              "      border-right-color: var(--fill-color);\n",
              "    }\n",
              "    80% {\n",
              "      border-color: transparent;\n",
              "      border-right-color: var(--fill-color);\n",
              "      border-bottom-color: var(--fill-color);\n",
              "    }\n",
              "    90% {\n",
              "      border-color: transparent;\n",
              "      border-bottom-color: var(--fill-color);\n",
              "    }\n",
              "  }\n",
              "</style>\n",
              "\n",
              "      <script>\n",
              "        async function quickchart(key) {\n",
              "          const quickchartButtonEl =\n",
              "            document.querySelector('#' + key + ' button');\n",
              "          quickchartButtonEl.disabled = true;  // To prevent multiple clicks.\n",
              "          quickchartButtonEl.classList.add('colab-df-spinner');\n",
              "          try {\n",
              "            const charts = await google.colab.kernel.invokeFunction(\n",
              "                'suggestCharts', [key], {});\n",
              "          } catch (error) {\n",
              "            console.error('Error during call to suggestCharts:', error);\n",
              "          }\n",
              "          quickchartButtonEl.classList.remove('colab-df-spinner');\n",
              "          quickchartButtonEl.classList.add('colab-df-quickchart-complete');\n",
              "        }\n",
              "        (() => {\n",
              "          let quickchartButtonEl =\n",
              "            document.querySelector('#df-071a2d9d-603d-4108-883a-4298748d3edd button');\n",
              "          quickchartButtonEl.style.display =\n",
              "            google.colab.kernel.accessAllowed ? 'block' : 'none';\n",
              "        })();\n",
              "      </script>\n",
              "    </div>\n",
              "\n",
              "    </div>\n",
              "  </div>\n"
            ],
            "application/vnd.google.colaboratory.intrinsic+json": {
              "type": "dataframe",
              "variable_name": "data"
            }
          },
          "metadata": {},
          "execution_count": 3
        }
      ]
    },
    {
      "cell_type": "markdown",
      "source": [
        "## Split the dataset"
      ],
      "metadata": {
        "id": "mvSf-R7Ulcrv"
      }
    },
    {
      "cell_type": "code",
      "source": [
        "y = data['y'].map({'yes': 1, 'no': 0})\n",
        "X = data.drop(columns=['y'])\n",
        "\n",
        "X = pd.get_dummies(X, drop_first=True)"
      ],
      "metadata": {
        "id": "xxBcY2gwdf4I"
      },
      "execution_count": 4,
      "outputs": []
    },
    {
      "cell_type": "code",
      "source": [
        "X_train, X_test, y_train, y_test = train_test_split(\n",
        "    X, y, test_size=0.2, stratify=y, random_state=42)"
      ],
      "metadata": {
        "id": "BS9TFl2mdxFM"
      },
      "execution_count": 5,
      "outputs": []
    },
    {
      "cell_type": "markdown",
      "source": [
        "## Helper Function for model evaluation (This function was generated with the help of an LLM)"
      ],
      "metadata": {
        "id": "a13XRapQlf7I"
      }
    },
    {
      "cell_type": "markdown",
      "source": [
        "The goal of the evaluation metrics is to measure how well a model predicts the target variable. In this case, Accuracy, Precision, Recall, F1-Score, and AUC-ROC will be measured for each of the algorithms tested. This is to measure overall correctness, qaulity of positive predictions, coverage of actual positives, balance between precision and recall, and ranking ability respectively."
      ],
      "metadata": {
        "id": "mSLxIHxoJWaG"
      }
    },
    {
      "cell_type": "code",
      "source": [
        "def evaluate_model(model, X_test, y_test, model_name):\n",
        "    \"\"\"Compute and print key evaluation metrics.\"\"\"\n",
        "    y_pred = model.predict(X_test)\n",
        "    y_prob = model.predict_proba(X_test)[:, 1] if hasattr(model, \"predict_proba\") else None\n",
        "\n",
        "    acc = accuracy_score(y_test, y_pred)\n",
        "    prec = precision_score(y_test, y_pred)\n",
        "    rec = recall_score(y_test, y_pred)\n",
        "    f1 = f1_score(y_test, y_pred)\n",
        "    auc = roc_auc_score(y_test, y_prob) if y_prob is not None else None\n",
        "\n",
        "    print(f\"=== {model_name} Evaluation ===\")\n",
        "    print(f\"Accuracy: {acc:.4f}\")\n",
        "    print(f\"Precision: {prec:.4f}\")\n",
        "    print(f\"Recall: {rec:.4f}\")\n",
        "    print(f\"F1-score: {f1:.4f}\")\n",
        "    if auc: print(f\"AUC-ROC: {auc:.4f}\")\n",
        "    print(\"-\"*40)\n",
        "\n",
        "    return {'model': model_name, 'accuracy': acc, 'precision': prec, 'recall': rec, 'f1': f1, 'auc': auc}"
      ],
      "metadata": {
        "id": "r1OaHFJPeCm-"
      },
      "execution_count": 6,
      "outputs": []
    },
    {
      "cell_type": "markdown",
      "source": [
        "## Decision Trees (Base Model)"
      ],
      "metadata": {
        "id": "R-kUssGDlqTW"
      }
    },
    {
      "cell_type": "markdown",
      "source": [
        "The first model is Decision Tree - Base Model. This model is very interpretable as it operates like a flowchart of decision. It handles mixed features types and captures non linear relationships effectively and is also non parametric. However it may be prone to overfitting."
      ],
      "metadata": {
        "id": "8WQtKOT_J-kf"
      }
    },
    {
      "cell_type": "code",
      "source": [
        "dt1 = DecisionTreeClassifier(random_state=42)\n",
        "dt1.fit(X_train, y_train)\n",
        "\n",
        "res_dt1 = evaluate_model(dt1, X_test, y_test, \"Decision Tree - Baseline\")"
      ],
      "metadata": {
        "colab": {
          "base_uri": "https://localhost:8080/"
        },
        "id": "JmRxmhLNeFqD",
        "outputId": "51ca0765-520d-40eb-abe9-93abd9c3176d"
      },
      "execution_count": 7,
      "outputs": [
        {
          "output_type": "stream",
          "name": "stdout",
          "text": [
            "=== Decision Tree - Baseline Evaluation ===\n",
            "Accuracy: 0.8877\n",
            "Precision: 0.5016\n",
            "Recall: 0.5194\n",
            "F1-score: 0.5103\n",
            "AUC-ROC: 0.7269\n",
            "----------------------------------------\n"
          ]
        }
      ]
    },
    {
      "cell_type": "markdown",
      "source": [
        "## Decision Tree (Tuned)"
      ],
      "metadata": {
        "id": "jvIUxNuKltX2"
      }
    },
    {
      "cell_type": "markdown",
      "source": [
        "To reduce the risk of overfitting and find the best bias-variance tradeoff the decision tree should be tuned. By setting different parameters a \"sweet spot\" can be found by building a tree complex enough to learn pattersn but simple enough to be able to generalize.\n",
        "\n"
      ],
      "metadata": {
        "id": "30X4EB1smtkR"
      }
    },
    {
      "cell_type": "code",
      "source": [
        "params = {'max_depth': [4, 6, 8, 10], 'min_samples_split': [2, 5, 10]}\n",
        "grid_dt = GridSearchCV(DecisionTreeClassifier(random_state=42), params, cv=5, scoring='f1')\n",
        "grid_dt.fit(X_train, y_train)\n",
        "\n",
        "best_dt = grid_dt.best_estimator_\n",
        "res_dt2 = evaluate_model(best_dt, X_test, y_test, \"Decision Tree - Tuned\")\n"
      ],
      "metadata": {
        "colab": {
          "base_uri": "https://localhost:8080/"
        },
        "id": "YoJ3pIUWeFmd",
        "outputId": "e6d24bb1-dcd4-4d68-cecb-ba7f0996e48b"
      },
      "execution_count": 8,
      "outputs": [
        {
          "output_type": "stream",
          "name": "stdout",
          "text": [
            "=== Decision Tree - Tuned Evaluation ===\n",
            "Accuracy: 0.9200\n",
            "Precision: 0.6801\n",
            "Recall: 0.5474\n",
            "F1-score: 0.6066\n",
            "AUC-ROC: 0.9401\n",
            "----------------------------------------\n"
          ]
        }
      ]
    },
    {
      "cell_type": "markdown",
      "source": [
        "## Random Forest (Base Model)"
      ],
      "metadata": {
        "id": "T1YFRtfUlwCO"
      }
    },
    {
      "cell_type": "markdown",
      "source": [
        "Random Forest is an esemble learning algorithm that builds many decision trees each trained on slighlty different subsets of the data and features. Then it averaged their predicitons or takes a majority vote for classification to put simply. So instead of relying on a single possibly noisy tree the forest combines multiple diverse trees to make more stable and accurate predictions."
      ],
      "metadata": {
        "id": "Qf22gYWpLy63"
      }
    },
    {
      "cell_type": "code",
      "source": [
        "rf1 = RandomForestClassifier(random_state=42)\n",
        "rf1.fit(X_train, y_train)\n",
        "\n",
        "res_rf1 = evaluate_model(rf1, X_test, y_test, \"Random Forest - Baseline\")"
      ],
      "metadata": {
        "colab": {
          "base_uri": "https://localhost:8080/"
        },
        "id": "eNQsya7MeFhb",
        "outputId": "96b1cc72-868d-4f96-bc88-af6f332290df"
      },
      "execution_count": 9,
      "outputs": [
        {
          "output_type": "stream",
          "name": "stdout",
          "text": [
            "=== Random Forest - Baseline Evaluation ===\n",
            "Accuracy: 0.9184\n",
            "Precision: 0.6957\n",
            "Recall: 0.4903\n",
            "F1-score: 0.5752\n",
            "AUC-ROC: 0.9487\n",
            "----------------------------------------\n"
          ]
        }
      ]
    },
    {
      "cell_type": "markdown",
      "source": [
        "## Random Forest (Tuned)"
      ],
      "metadata": {
        "id": "YDasmOzvly78"
      }
    },
    {
      "cell_type": "markdown",
      "source": [
        "Again if a model is overfitting and not performing as well then it should be fine tuned. So different number of trees in the forest and the depth of the trees are experimented to see which paramters give the best results. It is important to understand that although more trees can make a mode more stable and robust it can significantly increase computation time and resource while not improving performance."
      ],
      "metadata": {
        "id": "S17y9FNOmm9g"
      }
    },
    {
      "cell_type": "code",
      "source": [
        "params_rf = {\n",
        "    'n_estimators': [100, 200, 300],\n",
        "    'max_depth': [15, 20, 25],\n",
        "}\n",
        "grid_rf = GridSearchCV(RandomForestClassifier(random_state=42), params_rf, cv=3, scoring='f1')\n",
        "grid_rf.fit(X_train, y_train)\n",
        "\n",
        "best_rf = grid_rf.best_estimator_\n",
        "res_rf2 = evaluate_model(best_rf, X_test, y_test, \"Random Forest - Tuned\")"
      ],
      "metadata": {
        "colab": {
          "base_uri": "https://localhost:8080/"
        },
        "id": "VZooSqfkeFe9",
        "outputId": "b79abe60-5032-4e05-8765-f4c44d9075cb"
      },
      "execution_count": 10,
      "outputs": [
        {
          "output_type": "stream",
          "name": "stdout",
          "text": [
            "=== Random Forest - Tuned Evaluation ===\n",
            "Accuracy: 0.9206\n",
            "Precision: 0.7082\n",
            "Recall: 0.5022\n",
            "F1-score: 0.5876\n",
            "AUC-ROC: 0.9498\n",
            "----------------------------------------\n"
          ]
        }
      ]
    },
    {
      "cell_type": "markdown",
      "source": [
        "## AdaBoost (Base Model)"
      ],
      "metadata": {
        "id": "8IJ1gaE6l2mE"
      }
    },
    {
      "cell_type": "markdown",
      "source": [
        "Adaboost, Adaptive Boosting, is a boosting algorithm that builds an esemble of weak learners in sequence. Which are small decision trees, stumps, with each new tree focusing on fixing the mistakes in the previous one. These weak learners are combined into a strong model weighted average."
      ],
      "metadata": {
        "id": "I5JCp70HOeOh"
      }
    },
    {
      "cell_type": "code",
      "source": [
        "#ab1 = AdaBoostClassifier(random_state=42)\n",
        "#ab1.fit(X_train, y_train)\n",
        "\n",
        "#res_ab1 = evaluate_model(ab1, X_test, y_test, \"AdaBoost - Baseline\")\n",
        "\n",
        "# Was not able to train this model due to the presence of some NaN values"
      ],
      "metadata": {
        "id": "hQTNfPVBeFch"
      },
      "execution_count": 11,
      "outputs": []
    },
    {
      "cell_type": "code",
      "source": [
        "from sklearn.impute import SimpleImputer\n",
        "from sklearn.pipeline import Pipeline\n",
        "\n",
        "imputer = SimpleImputer(strategy='most_frequent')\n",
        "\n",
        "ab1 = Pipeline([\n",
        "    ('imputer', imputer),\n",
        "    ('classifier', AdaBoostClassifier(random_state=42))\n",
        "])\n",
        "\n",
        "ab1.fit(X_train, y_train)\n",
        "\n",
        "res_ab1 = evaluate_model(ab1, X_test, y_test, \"AdaBoost - Baseline\")"
      ],
      "metadata": {
        "colab": {
          "base_uri": "https://localhost:8080/"
        },
        "id": "JQ9roWcRi5yL",
        "outputId": "f4800408-d50f-4c8d-e85b-f56c6a1714e6"
      },
      "execution_count": 12,
      "outputs": [
        {
          "output_type": "stream",
          "name": "stdout",
          "text": [
            "=== AdaBoost - Baseline Evaluation ===\n",
            "Accuracy: 0.9081\n",
            "Precision: 0.6462\n",
            "Recall: 0.4073\n",
            "F1-score: 0.4997\n",
            "AUC-ROC: 0.9359\n",
            "----------------------------------------\n"
          ]
        }
      ]
    },
    {
      "cell_type": "markdown",
      "source": [
        "## AdaBoost (Tuned)"
      ],
      "metadata": {
        "id": "8dZb7b9Ql6Z-"
      }
    },
    {
      "cell_type": "markdown",
      "source": [
        "Again the model is fine tuned like the prevoius one to improve on the base model. The paramters tuned are the amount of weak learners and the learning rate of each weak learner and how much it contributes to the final model.\n",
        "\n"
      ],
      "metadata": {
        "id": "jCUfkcuAmU03"
      }
    },
    {
      "cell_type": "code",
      "source": [
        "params_ab = {'classifier__n_estimators': [50, 100, 200], 'classifier__learning_rate': [0.01, 0.1, 1]}\n",
        "grid_ab = GridSearchCV(AdaBoostClassifier(random_state=42), params_ab, cv=5, scoring='f1')\n",
        "grid_ab = GridSearchCV(estimator=ab1,param_grid=params_ab,cv=5,scoring='f1',n_jobs=-1)\n",
        "grid_ab.fit(X_train, y_train)\n",
        "\n",
        "best_ab = grid_ab.best_estimator_\n",
        "res_ab2 = evaluate_model(best_ab, X_test, y_test, \"AdaBoost - Tuned\")\n",
        "#print(\"Best parameters:\", grid_ab.best_params_)\n"
      ],
      "metadata": {
        "colab": {
          "base_uri": "https://localhost:8080/"
        },
        "id": "XpCTcGJ9eFZ4",
        "outputId": "e81dbf85-117c-4c85-87db-f95d42c0f894"
      },
      "execution_count": 13,
      "outputs": [
        {
          "output_type": "stream",
          "name": "stdout",
          "text": [
            "=== AdaBoost - Tuned Evaluation ===\n",
            "Accuracy: 0.9081\n",
            "Precision: 0.6462\n",
            "Recall: 0.4073\n",
            "F1-score: 0.4997\n",
            "AUC-ROC: 0.9359\n",
            "----------------------------------------\n"
          ]
        }
      ]
    },
    {
      "cell_type": "markdown",
      "source": [
        "## Evaluation"
      ],
      "metadata": {
        "id": "s7P6ziyil_BE"
      }
    },
    {
      "cell_type": "code",
      "source": [
        "results = pd.DataFrame([res_dt1, res_dt2, res_rf1, res_rf2, res_ab1, res_ab2])\n",
        "results.set_index('model', inplace=True)\n",
        "print(results)\n",
        "\n",
        "sns.barplot(x=results.index, y=results['f1'])\n",
        "plt.title(\"F1-score Comparison Models\")\n",
        "plt.xticks(rotation=45)\n",
        "plt.show()"
      ],
      "metadata": {
        "colab": {
          "base_uri": "https://localhost:8080/",
          "height": 732
        },
        "id": "TztFzhSUeFWd",
        "outputId": "1b480b11-8564-430a-944f-3db0e61950f9"
      },
      "execution_count": 14,
      "outputs": [
        {
          "output_type": "stream",
          "name": "stdout",
          "text": [
            "                          accuracy  precision    recall        f1       auc\n",
            "model                                                                      \n",
            "Decision Tree - Baseline  0.887715   0.501561  0.519397  0.510323  0.726935\n",
            "Decision Tree - Tuned     0.920005   0.680054  0.547414  0.606567  0.940069\n",
            "Random Forest - Baseline  0.918427   0.695719  0.490302  0.575221  0.948741\n",
            "Random Forest - Tuned     0.920612   0.708207  0.502155  0.587642  0.949760\n",
            "AdaBoost - Baseline       0.908109   0.646154  0.407328  0.499670  0.935861\n",
            "AdaBoost - Tuned          0.908109   0.646154  0.407328  0.499670  0.935861\n"
          ]
        },
        {
          "output_type": "display_data",
          "data": {
            "text/plain": [
              "<Figure size 640x480 with 1 Axes>"
            ],
            "image/png": "[encoded data removed]"
          },
          "metadata": {}
        }
      ]
    },
    {
      "cell_type": "markdown",
      "source": [
        "The best model seems to be a Tuned Decision Tree achieving an f1 score of 0.61. Usually random forests and adaboost perform better but in manyt cases they may not. In this example random forest may benefit from deeper and more trees however the compute time increases much more and there isn't sufficeint computation power so even with the smaller parameters it took longer to perform. And adaboost might be suffering from noise and label imbalance. Before ending of the experiment there is a model called XGBoost which is another boosting tree based algorithm similar to adaboost. It is considered the king of kaggle datasets and usually outperforms the other models.\n",
        "\n"
      ],
      "metadata": {
        "id": "LsFTow5JmCwz"
      }
    },
    {
      "cell_type": "markdown",
      "source": [
        "## Experimenting with XGBoost (The king of kaggle competitions)"
      ],
      "metadata": {
        "id": "ajlX7P-Hnbnb"
      }
    },
    {
      "cell_type": "code",
      "source": [
        "from xgboost import XGBClassifier\n"
      ],
      "metadata": {
        "id": "LwNhyxRom8NI"
      },
      "execution_count": 15,
      "outputs": []
    },
    {
      "cell_type": "code",
      "source": [
        "xgb_baseline = Pipeline([\n",
        "    ('imputer', SimpleImputer(strategy='most_frequent')),\n",
        "    ('classifier', XGBClassifier(\n",
        "        n_estimators=200,\n",
        "        learning_rate=0.1,\n",
        "        max_depth=5,\n",
        "        subsample=0.9,\n",
        "        random_state=42,\n",
        "        use_label_encoder=False,\n",
        "        eval_metric='logloss'\n",
        "    ))\n",
        "])\n",
        "\n",
        "xgb_baseline.fit(X_train, y_train)\n",
        "res_xgb_base = evaluate_model(xgb_baseline, X_test, y_test, \"XGBoost\")"
      ],
      "metadata": {
        "colab": {
          "base_uri": "https://localhost:8080/"
        },
        "id": "TshdlY42m7xZ",
        "outputId": "386ffc59-5f3b-4496-b912-0433b92acae8"
      },
      "execution_count": 16,
      "outputs": [
        {
          "output_type": "stream",
          "name": "stderr",
          "text": [
            "/usr/local/lib/python3.12/dist-packages/xgboost/training.py:199: UserWarning: [07:45:31] WARNING: /workspace/src/learner.cc:790: \n",
            "Parameters: { \"use_label_encoder\" } are not used.\n",
            "\n",
            "  bst.update(dtrain, iteration=i, fobj=obj)\n"
          ]
        },
        {
          "output_type": "stream",
          "name": "stdout",
          "text": [
            "=== XGBoost Evaluation ===\n",
            "Accuracy: 0.9204\n",
            "Precision: 0.6771\n",
            "Recall: 0.5603\n",
            "F1-score: 0.6132\n",
            "AUC-ROC: 0.9548\n",
            "----------------------------------------\n"
          ]
        }
      ]
    },
    {
      "cell_type": "code",
      "source": [
        "results = pd.DataFrame([res_dt1, res_dt2, res_rf1, res_rf2, res_ab1, res_ab2, res_xgb_base])\n",
        "results.set_index('model', inplace=True)\n",
        "print(results)\n",
        "\n",
        "sns.barplot(x=results.index, y=results['f1'])\n",
        "plt.title(\"F1-score Comparison Models\")\n",
        "plt.xticks(rotation=45)\n",
        "plt.show()"
      ],
      "metadata": {
        "colab": {
          "base_uri": "https://localhost:8080/",
          "height": 749
        },
        "id": "Gd5VR-22nig-",
        "outputId": "92cdd5b0-7225-4b6f-854d-f48f740744ac"
      },
      "execution_count": 17,
      "outputs": [
        {
          "output_type": "stream",
          "name": "stdout",
          "text": [
            "                          accuracy  precision    recall        f1       auc\n",
            "model                                                                      \n",
            "Decision Tree - Baseline  0.887715   0.501561  0.519397  0.510323  0.726935\n",
            "Decision Tree - Tuned     0.920005   0.680054  0.547414  0.606567  0.940069\n",
            "Random Forest - Baseline  0.918427   0.695719  0.490302  0.575221  0.948741\n",
            "Random Forest - Tuned     0.920612   0.708207  0.502155  0.587642  0.949760\n",
            "AdaBoost - Baseline       0.908109   0.646154  0.407328  0.499670  0.935861\n",
            "AdaBoost - Tuned          0.908109   0.646154  0.407328  0.499670  0.935861\n",
            "XGBoost                   0.920369   0.677083  0.560345  0.613208  0.954760\n"
          ]
        },
        {
          "output_type": "display_data",
          "data": {
            "text/plain": [
              "<Figure size 640x480 with 1 Axes>"
            ],
            "image/png": "[encoded data removed]"
          },
          "metadata": {}
        }
      ]
    },
    {
      "cell_type": "markdown",
      "source": [
        "A baseline XGBoost seems to outperform our best model Decision Tree Tuned. Better results can probably achieved by fine tuning the model. XGBoost is a highly optimized gradient boosting algorithm. similarly to adaboost it combines weak learners sequentially but it is much more mathematically and computationally sophisticated and efficient. Each new tree is trained to minimze a loss function by directly computing the gradient from the previous tree. It usually learnes from mistakes more intelligently than adaboost and much more robust to class imbalance. For these reasons and other it makes sense why XGBoost tends to be the king of these kaggle datasets."
      ],
      "metadata": {
        "id": "4O6fCm4IoMe6"
      }
    }
  ]
}